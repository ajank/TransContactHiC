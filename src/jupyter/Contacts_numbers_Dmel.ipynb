{
 "cells": [
  {
   "cell_type": "markdown",
   "id": "b45586d3-35cf-4a8b-b686-4d8ee4b79c8d",
   "metadata": {},
   "source": [
    "Distributions of distances for cis and trans pairs."
   ]
  },
  {
   "cell_type": "code",
   "execution_count": 1,
   "id": "1736c881-8da1-45e9-ad51-26631a2af644",
   "metadata": {},
   "outputs": [],
   "source": [
    "import pandas as pd\n",
    "import itertools\n",
    "import matplotlib.pyplot as plt\n",
    "import seaborn as sns\n",
    "import pybedtools as pbt\n",
    "import random, os\n",
    "import numpy as np\n",
    "from multiprocessing import Pool\n",
    "from scipy import stats\n",
    "\n",
    "pbt.set_tempdir('../../tmp')"
   ]
  },
  {
   "cell_type": "code",
   "execution_count": 2,
   "id": "99dcc9f1-3f95-453f-9aa4-9cb1692044a9",
   "metadata": {},
   "outputs": [],
   "source": [
    "#Input\n",
    "data_path = \"../../data/haplotype_HiC/bam/all_reads/\"\n",
    "\n",
    "#Output\n",
    "tables = \"../../results_final/csv/\"\n",
    "figures = \"../../results_final/fig/\""
   ]
  },
  {
   "cell_type": "code",
   "execution_count": 3,
   "id": "d81d033d-7a3f-4243-9bdf-12856cad0dca",
   "metadata": {},
   "outputs": [],
   "source": [
    "def check_interaction_type(row):\n",
    "    if row[\"same haplotype\"] == False:\n",
    "        if row[\"chrom1\"] == row[\"chrom2\"]:\n",
    "            return \"transh\"\n",
    "        else:\n",
    "            return \"trans-nonh\"\n",
    "    else:\n",
    "        if row[\"chrom1\"] == row[\"chrom2\"]:\n",
    "            return \"cish \" + row[\"h1\"]\n",
    "        else:\n",
    "            return \"cis-nonh\""
   ]
  },
  {
   "cell_type": "code",
   "execution_count": 4,
   "id": "5b69bdd7-2292-4cb5-a930-b6b13231e203",
   "metadata": {},
   "outputs": [],
   "source": [
    "def generate_second_from_pair(chrom):\n",
    "    \"\"\"Draw one random read from the selected chromosome. Return start position\"\"\"\n",
    "    dm6_chromsizes = pbt.helpers.chromsizes(\"dm6\")\n",
    "    try:\n",
    "        chromosome_size = dm6_chromsizes[chrom][1]\n",
    "        read_position = random.randint(1,chromosome_size)\n",
    "        return read_position\n",
    "    except KeyError:\n",
    "        #print(chrom)\n",
    "        pass #ignore missing scaffolds"
   ]
  },
  {
   "cell_type": "code",
   "execution_count": 5,
   "id": "8b9672c2-a448-430f-bfdf-5faaf79d510f",
   "metadata": {},
   "outputs": [],
   "source": [
    "def read_and_preprocess(f):\n",
    "    pairs = pd.read_csv(f, sep = \"\\t\")\n",
    "    pairs = pairs.rename(columns = {\"haplotype1\":\"h1\", \"haplotype2\":\"h2\"})\n",
    "    \n",
    "    #to have chromosome names consistent with genomic features\n",
    "    pairs[\"chrom1\"] = \"chr\" + pairs[\"chrom1\"]\n",
    "    pairs[\"chrom2\"] = \"chr\" + pairs[\"chrom2\"]\n",
    "    pairs[\"interaction_ID\"] = pairs.index\n",
    "    pairs[\"same haplotype\"] = pairs[\"h1\"] == pairs[\"h2\"]   \n",
    "    pairs[\"interaction type\"] = pairs.apply(check_interaction_type, axis=1)\n",
    "    pairs[\"dist\"] = abs(pairs[\"pos1\"] - pairs[\"pos2\"])\n",
    "    pairs[\"dist+1\"] = pairs[\"dist\"] + 1\n",
    "    diff = pairs[~pairs[\"same haplotype\"]].copy()\n",
    "    return pairs"
   ]
  },
  {
   "cell_type": "code",
   "execution_count": 6,
   "id": "5b4e356d-6126-47dd-b313-c56df3905714",
   "metadata": {},
   "outputs": [],
   "source": [
    "def plot_ecdf(df, dataset_name):\n",
    "    random_pairs = df[[\"chrom1\", \"pos1\"]].copy()\n",
    "    random_pairs[\"pos2\"] = random_pairs.chrom1.apply(generate_second_from_pair)\n",
    "    random_pairs[\"same haplotype\"] = \"random pairs\"\n",
    "    random_pairs[\"interaction type\"] = \"random\"\n",
    "    random_pairs[\"dist\"] = abs(random_pairs[\"pos1\"] - random_pairs[\"pos2\"])\n",
    "    \n",
    "    dist_data_concat = pd.concat([df[[\"dist\", \"interaction type\"]], random_pairs[[\"dist\", \"interaction type\"]]]).reset_index()\n",
    "    dist_data_concat[\"dist [kb]\"] = dist_data_concat[\"dist\"] / 1000\n",
    "    haplotypes = df[\"h1\"].unique()\n",
    "    dist_data_concat[\"interaction type\"] = dist_data_concat[\"interaction type\"].str.replace(\"cish %s\" % haplotypes[0], \"cish\", regex=True) \n",
    "    dist_data_concat[\"interaction type\"] = dist_data_concat[\"interaction type\"].str.replace(\"cish %s\" % haplotypes[1], \"cish\", regex=True) \n",
    "    \n",
    "    #the distances between positions on non-homologous chromosomes does not have biological meaning\n",
    "    #so we plot only homologous ones\n",
    "    dist_data_concat_h = dist_data_concat[dist_data_concat[\"interaction type\"].isin([\"cish\", \"transh\", \"random\"])]\n",
    "                                               \n",
    "    interaction_types_order = [\"cish\", \"transh\", \"random\"]\n",
    "    \n",
    "    with sns.plotting_context('notebook', font_scale=1.4):\n",
    "        fig, ax = plt.subplots(1, 1, figsize=(5,5))\n",
    "        sns.ecdfplot(data = dist_data_concat_h, x = \"dist [kb]\", \n",
    "                     hue = \"interaction type\", \n",
    "                     hue_order = interaction_types_order, \n",
    "                     palette = contact_type_palette, ax = ax)  \n",
    "        ax.set_title(dataset_name)\n",
    "        plt.savefig(figures + \"distance_distributions_%s.svg\" % dataset_name.replace(\" \", \"_\"), bbox_inches='tight')\n",
    "        plt.show()"
   ]
  },
  {
   "cell_type": "code",
   "execution_count": 7,
   "id": "e7c907e5-bf89-4c4e-ac53-deb8fc5062f1",
   "metadata": {},
   "outputs": [
    {
     "name": "stdout",
     "output_type": "stream",
     "text": [
      "HiC_D_mel_DGRP-57_DGRP-439_WE_2-4h_Rep1.pairs.fully_phased.tsv.gz\n",
      "DGRP-57_DGRP-439_WE_2-4h_Rep1\n",
      "../../data/haplotype_HiC/bam/all_reads/HiC_D_mel_DGRP-57_DGRP-439_WE_2-4h_Rep1.pairs.fully_phased.tsv.gz\n",
      "HiC_D_mel_DGRP-57_DGRP-439_PnM_Rep1.pairs.fully_phased.tsv.gz\n",
      "DGRP-57_DGRP-439_PnM_Rep1\n",
      "../../data/haplotype_HiC/bam/all_reads/HiC_D_mel_DGRP-57_DGRP-439_PnM_Rep1.pairs.fully_phased.tsv.gz\n",
      "HiC_D_mel_DGRP-57_DGRP-439_PnM_Rep2.pairs.fully_phased.tsv.gz\n",
      "DGRP-57_DGRP-439_PnM_Rep2\n",
      "../../data/haplotype_HiC/bam/all_reads/HiC_D_mel_DGRP-57_DGRP-439_PnM_Rep2.pairs.fully_phased.tsv.gz\n",
      "HiC_D_mel_DGRP-57_DGRP-439_WE_2-4h_Rep2.pairs.fully_phased.tsv.gz\n",
      "DGRP-57_DGRP-439_WE_2-4h_Rep2\n",
      "../../data/haplotype_HiC/bam/all_reads/HiC_D_mel_DGRP-57_DGRP-439_WE_2-4h_Rep2.pairs.fully_phased.tsv.gz\n"
     ]
    }
   ],
   "source": [
    "summary_dict = {\"Dataset\" : [],\n",
    "               \"Num pairs\" : [],\n",
    "               \"Num transh pairs\" : [],\n",
    "               \"% transh pairs\" : [],\n",
    "               \"Num cish1 pairs\" : [],\n",
    "               \"Num cish2 pairs\" : [],\n",
    "               \"Num trans-nonh pairs\" : [],\n",
    "               \"Num cis-nonh pairs\" : [],\n",
    "               \"% cish1 in total cis\" : []}\n",
    "datasets_dict = {}\n",
    "\n",
    "for f in os.listdir(data_path):\n",
    "    if \"pairs.fully_phased.tsv.gz\" in f:  \n",
    "        if \"D_mel\" in f and \"DGRP-57\" in f:\n",
    "            print(f)\n",
    "            dataset = f.split(\".\")[0].split(\"mel_\")[1]\n",
    "            print(dataset)\n",
    "            print(os.path.join(data_path, f))\n",
    "\n",
    "            df = read_and_preprocess(os.path.join(data_path, f))\n",
    "            summary_dict[\"Dataset\"].append(dataset)\n",
    "            summary_dict[\"Num pairs\"].append(len(df))\n",
    "            summary_dict[\"Num transh pairs\"].append(len(df[df[\"interaction type\"] == \"transh\"]))\n",
    "            summary_dict[\"% transh pairs\"].append(\"%.1f\" % (100 * len(df[df[\"interaction type\"] == \"transh\"]) / len(df)))\n",
    "            haplotypes = df[\"h1\"].unique()\n",
    "            haplotypes.sort()\n",
    "            num_cish1 = len(df[df[\"interaction type\"] == \"cish \" + haplotypes[0]])\n",
    "            num_cish2 = len(df[df[\"interaction type\"] == \"cish \" + haplotypes[1]])\n",
    "            perc_h1_total_cis = num_cish1 / (num_cish1 + num_cish2)\n",
    "            summary_dict[\"Num cish1 pairs\"].append(str(num_cish1) + \"(%s)\" % haplotypes[0])\n",
    "            summary_dict[\"Num cish2 pairs\"].append(str(num_cish2) + \"(%s)\" % haplotypes[1])\n",
    "            summary_dict[\"% cish1 in total cis\"].append(\"%.1f\" % (100 * perc_h1_total_cis))\n",
    "            summary_dict[\"Num trans-nonh pairs\"].append(len(df[df[\"interaction type\"] == \"trans-nonh\"]))\n",
    "            summary_dict[\"Num cis-nonh pairs\"].append(len(df[df[\"interaction type\"] == \"cis-nonh\"]))\n",
    "            datasets_dict[dataset] = df"
   ]
  },
  {
   "cell_type": "code",
   "execution_count": 8,
   "id": "2702c8d8-c9a3-4bf2-b4c6-0424b877d073",
   "metadata": {},
   "outputs": [
    {
     "data": {
      "text/html": [
       "<div>\n",
       "<style scoped>\n",
       "    .dataframe tbody tr th:only-of-type {\n",
       "        vertical-align: middle;\n",
       "    }\n",
       "\n",
       "    .dataframe tbody tr th {\n",
       "        vertical-align: top;\n",
       "    }\n",
       "\n",
       "    .dataframe thead th {\n",
       "        text-align: right;\n",
       "    }\n",
       "</style>\n",
       "<table border=\"1\" class=\"dataframe\">\n",
       "  <thead>\n",
       "    <tr style=\"text-align: right;\">\n",
       "      <th></th>\n",
       "      <th>Dataset</th>\n",
       "      <th>Num pairs</th>\n",
       "      <th>Num transh pairs</th>\n",
       "      <th>% transh pairs</th>\n",
       "      <th>Num cish1 pairs</th>\n",
       "      <th>Num cish2 pairs</th>\n",
       "      <th>Num trans-nonh pairs</th>\n",
       "      <th>Num cis-nonh pairs</th>\n",
       "      <th>% cish1 in total cis</th>\n",
       "    </tr>\n",
       "  </thead>\n",
       "  <tbody>\n",
       "    <tr>\n",
       "      <th>1</th>\n",
       "      <td>DGRP-57_DGRP-439_PnM_Rep1</td>\n",
       "      <td>33066587</td>\n",
       "      <td>8066337</td>\n",
       "      <td>24.4</td>\n",
       "      <td>9168016(DGRP-439)</td>\n",
       "      <td>12192723(DGRP-57)</td>\n",
       "      <td>1798598</td>\n",
       "      <td>1840913</td>\n",
       "      <td>42.9</td>\n",
       "    </tr>\n",
       "    <tr>\n",
       "      <th>2</th>\n",
       "      <td>DGRP-57_DGRP-439_PnM_Rep2</td>\n",
       "      <td>34082160</td>\n",
       "      <td>8331486</td>\n",
       "      <td>24.4</td>\n",
       "      <td>9301688(DGRP-439)</td>\n",
       "      <td>12411296(DGRP-57)</td>\n",
       "      <td>1995531</td>\n",
       "      <td>2042159</td>\n",
       "      <td>42.8</td>\n",
       "    </tr>\n",
       "    <tr>\n",
       "      <th>0</th>\n",
       "      <td>DGRP-57_DGRP-439_WE_2-4h_Rep1</td>\n",
       "      <td>24117128</td>\n",
       "      <td>568465</td>\n",
       "      <td>2.4</td>\n",
       "      <td>10691373(DGRP-439)</td>\n",
       "      <td>11944187(DGRP-57)</td>\n",
       "      <td>418396</td>\n",
       "      <td>494707</td>\n",
       "      <td>47.2</td>\n",
       "    </tr>\n",
       "    <tr>\n",
       "      <th>3</th>\n",
       "      <td>DGRP-57_DGRP-439_WE_2-4h_Rep2</td>\n",
       "      <td>24480725</td>\n",
       "      <td>600806</td>\n",
       "      <td>2.5</td>\n",
       "      <td>10716930(DGRP-439)</td>\n",
       "      <td>12062557(DGRP-57)</td>\n",
       "      <td>494134</td>\n",
       "      <td>606298</td>\n",
       "      <td>47.0</td>\n",
       "    </tr>\n",
       "  </tbody>\n",
       "</table>\n",
       "</div>"
      ],
      "text/plain": [
       "                         Dataset  Num pairs  Num transh pairs % transh pairs  \\\n",
       "1      DGRP-57_DGRP-439_PnM_Rep1   33066587           8066337           24.4   \n",
       "2      DGRP-57_DGRP-439_PnM_Rep2   34082160           8331486           24.4   \n",
       "0  DGRP-57_DGRP-439_WE_2-4h_Rep1   24117128            568465            2.4   \n",
       "3  DGRP-57_DGRP-439_WE_2-4h_Rep2   24480725            600806            2.5   \n",
       "\n",
       "      Num cish1 pairs    Num cish2 pairs  Num trans-nonh pairs  \\\n",
       "1   9168016(DGRP-439)  12192723(DGRP-57)               1798598   \n",
       "2   9301688(DGRP-439)  12411296(DGRP-57)               1995531   \n",
       "0  10691373(DGRP-439)  11944187(DGRP-57)                418396   \n",
       "3  10716930(DGRP-439)  12062557(DGRP-57)                494134   \n",
       "\n",
       "   Num cis-nonh pairs % cish1 in total cis  \n",
       "1             1840913                 42.9  \n",
       "2             2042159                 42.8  \n",
       "0              494707                 47.2  \n",
       "3              606298                 47.0  "
      ]
     },
     "execution_count": 8,
     "metadata": {},
     "output_type": "execute_result"
    }
   ],
   "source": [
    "summary = pd.DataFrame(summary_dict)\n",
    "summary.sort_values(by = \"Dataset\")"
   ]
  },
  {
   "cell_type": "code",
   "execution_count": 9,
   "id": "0a1fa982-cb22-422f-8c2b-56e133069cf3",
   "metadata": {},
   "outputs": [],
   "source": [
    "dataset_names_dict = {\"DGRP-57_DGRP-439_PnM_Rep1\" : \"PnM cell line Rep1\",\n",
    "                      \"DGRP-57_DGRP-439_PnM_Rep2\" : \"PnM cell line Rep2\",\n",
    "                      \"DGRP-57_DGRP-439_WE_2-4h_Rep1\" : \"WE 2-4h Rep1\",\n",
    "                      \"DGRP-57_DGRP-439_WE_2-4h_Rep2\" : \"WE 2-4h Rep2\"}\n",
    "summary[\"Dataset\"] = summary.Dataset.apply(lambda x: dataset_names_dict[x])"
   ]
  },
  {
   "cell_type": "code",
   "execution_count": 10,
   "id": "c4325fd9-5d8e-420c-94ac-ee3eae29b3f7",
   "metadata": {},
   "outputs": [
    {
     "data": {
      "text/html": [
       "<div>\n",
       "<style scoped>\n",
       "    .dataframe tbody tr th:only-of-type {\n",
       "        vertical-align: middle;\n",
       "    }\n",
       "\n",
       "    .dataframe tbody tr th {\n",
       "        vertical-align: top;\n",
       "    }\n",
       "\n",
       "    .dataframe thead th {\n",
       "        text-align: right;\n",
       "    }\n",
       "</style>\n",
       "<table border=\"1\" class=\"dataframe\">\n",
       "  <thead>\n",
       "    <tr style=\"text-align: right;\">\n",
       "      <th></th>\n",
       "      <th>Dataset</th>\n",
       "      <th>Num pairs</th>\n",
       "      <th>Num transh pairs</th>\n",
       "      <th>Num cish1 pairs</th>\n",
       "      <th>Num cish2 pairs</th>\n",
       "      <th>Num trans-nonh pairs</th>\n",
       "      <th>Num cis-nonh pairs</th>\n",
       "      <th>% transh pairs</th>\n",
       "      <th>% cish1 pairs</th>\n",
       "      <th>% cish2 pairs</th>\n",
       "      <th>% trans-nonh pairs</th>\n",
       "      <th>% cis-nonh pairs</th>\n",
       "    </tr>\n",
       "  </thead>\n",
       "  <tbody>\n",
       "    <tr>\n",
       "      <th>0</th>\n",
       "      <td>WE 2-4h Rep1</td>\n",
       "      <td>24117128</td>\n",
       "      <td>568465</td>\n",
       "      <td>10691373</td>\n",
       "      <td>11944187</td>\n",
       "      <td>418396</td>\n",
       "      <td>494707</td>\n",
       "      <td>2.357101</td>\n",
       "      <td>44.331037</td>\n",
       "      <td>49.525744</td>\n",
       "      <td>1.734850</td>\n",
       "      <td>2.051268</td>\n",
       "    </tr>\n",
       "    <tr>\n",
       "      <th>1</th>\n",
       "      <td>PnM cell line Rep1</td>\n",
       "      <td>33066587</td>\n",
       "      <td>8066337</td>\n",
       "      <td>9168016</td>\n",
       "      <td>12192723</td>\n",
       "      <td>1798598</td>\n",
       "      <td>1840913</td>\n",
       "      <td>24.394223</td>\n",
       "      <td>27.725922</td>\n",
       "      <td>36.873243</td>\n",
       "      <td>5.439322</td>\n",
       "      <td>5.567291</td>\n",
       "    </tr>\n",
       "    <tr>\n",
       "      <th>2</th>\n",
       "      <td>PnM cell line Rep2</td>\n",
       "      <td>34082160</td>\n",
       "      <td>8331486</td>\n",
       "      <td>9301688</td>\n",
       "      <td>12411296</td>\n",
       "      <td>1995531</td>\n",
       "      <td>2042159</td>\n",
       "      <td>24.445299</td>\n",
       "      <td>27.291956</td>\n",
       "      <td>36.415814</td>\n",
       "      <td>5.855060</td>\n",
       "      <td>5.991871</td>\n",
       "    </tr>\n",
       "    <tr>\n",
       "      <th>3</th>\n",
       "      <td>WE 2-4h Rep2</td>\n",
       "      <td>24480725</td>\n",
       "      <td>600806</td>\n",
       "      <td>10716930</td>\n",
       "      <td>12062557</td>\n",
       "      <td>494134</td>\n",
       "      <td>606298</td>\n",
       "      <td>2.454200</td>\n",
       "      <td>43.777012</td>\n",
       "      <td>49.273692</td>\n",
       "      <td>2.018461</td>\n",
       "      <td>2.476634</td>\n",
       "    </tr>\n",
       "  </tbody>\n",
       "</table>\n",
       "</div>"
      ],
      "text/plain": [
       "              Dataset  Num pairs  Num transh pairs  Num cish1 pairs  \\\n",
       "0        WE 2-4h Rep1   24117128            568465         10691373   \n",
       "1  PnM cell line Rep1   33066587           8066337          9168016   \n",
       "2  PnM cell line Rep2   34082160           8331486          9301688   \n",
       "3        WE 2-4h Rep2   24480725            600806         10716930   \n",
       "\n",
       "   Num cish2 pairs  Num trans-nonh pairs  Num cis-nonh pairs  % transh pairs  \\\n",
       "0         11944187                418396              494707        2.357101   \n",
       "1         12192723               1798598             1840913       24.394223   \n",
       "2         12411296               1995531             2042159       24.445299   \n",
       "3         12062557                494134              606298        2.454200   \n",
       "\n",
       "   % cish1 pairs  % cish2 pairs  % trans-nonh pairs  % cis-nonh pairs  \n",
       "0      44.331037      49.525744            1.734850          2.051268  \n",
       "1      27.725922      36.873243            5.439322          5.567291  \n",
       "2      27.291956      36.415814            5.855060          5.991871  \n",
       "3      43.777012      49.273692            2.018461          2.476634  "
      ]
     },
     "execution_count": 10,
     "metadata": {},
     "output_type": "execute_result"
    }
   ],
   "source": [
    "summary2 = summary[[\"Dataset\", \"Num pairs\", \"Num transh pairs\", \"Num cish1 pairs\", \"Num cish2 pairs\", \"Num trans-nonh pairs\", \"Num cis-nonh pairs\"]].copy()\n",
    "summary2[\"Num cish1 pairs\"] = summary2[\"Num cish1 pairs\"].str.split(\"(\").str[0].astype(int)\n",
    "summary2[\"Num cish2 pairs\"] = summary2[\"Num cish2 pairs\"].str.split(\"(\").str[0].astype(int)\n",
    "\n",
    "for c in summary2.columns[2:]:\n",
    "    summary2[c.replace(\"Num\",\"%\")] = summary2[c] / summary2[\"Num pairs\"] * 100\n",
    "summary2"
   ]
  },
  {
   "cell_type": "code",
   "execution_count": 11,
   "id": "829e580b-b9d3-48cb-b245-ec01a170a6e2",
   "metadata": {},
   "outputs": [],
   "source": [
    "summary2[\"% cish pairs\"] = summary2[\"% cish1 pairs\"] + summary2[\"% cish2 pairs\"]\n",
    "summary2[\"% cish + transh\"] = summary2[\"% cish pairs\"] + summary2[\"% transh pairs\"]\n",
    "summary2[\"% cish + transh + cis-nonh\"] = summary2[\"% cish + transh\"] + summary2[\"% cis-nonh pairs\"]\n",
    "summary2[\"% cish + transh + cis-nonh + trans-nonh\"] = summary2[\"% cish + transh + cis-nonh\"] + summary2[\"% trans-nonh pairs\"]\n",
    "\n",
    "summary2[\"Num cish pairs\"] = summary2[\"Num cish1 pairs\"] + summary2[\"Num cish2 pairs\"]\n",
    "summary2[\"Num cish + transh\"] = summary2[\"Num cish pairs\"] + summary2[\"Num transh pairs\"]\n",
    "summary2[\"Num cish + transh + cis-nonh\"] = summary2[\"Num cish + transh\"] + summary2[\"Num cis-nonh pairs\"]\n",
    "summary2[\"Num cish + transh + cis-nonh + trans-nonh\"] = summary2[\"Num cish + transh + cis-nonh\"] + summary2[\"Num trans-nonh pairs\"]"
   ]
  },
  {
   "cell_type": "code",
   "execution_count": 12,
   "id": "4e65161f-ff13-4881-8f31-938dcc5d76b5",
   "metadata": {},
   "outputs": [],
   "source": [
    "contact_type_palette ={\"transh\": \"#185249\", \"cish\": \"#888888\", \"cis-nonh\" : \"#adadad\", \"trans-nonh\" : \"#d4d2d2\", \"random\" : \"red\"}"
   ]
  },
  {
   "cell_type": "code",
   "execution_count": 13,
   "id": "9b20cf75-227e-4d1d-89fe-071eb5253046",
   "metadata": {},
   "outputs": [
    {
     "data": {
      "image/png": "[encoded data removed]",
      "text/plain": [
       "<Figure size 720x216 with 1 Axes>"
      ]
     },
     "metadata": {
      "needs_background": "light"
     },
     "output_type": "display_data"
    },
    {
     "data": {
      "image/png": "[encoded data removed]",
      "text/plain": [
       "<Figure size 720x216 with 1 Axes>"
      ]
     },
     "metadata": {
      "needs_background": "light"
     },
     "output_type": "display_data"
    }
   ],
   "source": [
    "datasets_order = [\"WE 2-4h Rep1\", \"WE 2-4h Rep2\", \"PnM cell line Rep1\", \"PnM cell line Rep2\"]\n",
    "with sns.plotting_context('notebook', font_scale=1.4):\n",
    "    fig, ax = plt.subplots(1, 1, figsize=(10,3))\n",
    "    bar1 = sns.barplot(y=\"Dataset\", x=\"% cish + transh + cis-nonh + trans-nonh\", data=summary2, label = \"trans-nonh\", color=contact_type_palette[\"trans-nonh\"], orient=\"h\", order = datasets_order)\n",
    "    bar2 = sns.barplot(y=\"Dataset\", x=\"% cish + transh + cis-nonh\", data=summary2, label = \"cis-nonh\", color=contact_type_palette[\"cis-nonh\"], orient=\"h\", order = datasets_order)\n",
    "    bar3 = sns.barplot(y=\"Dataset\", x=\"% cish + transh\", data=summary2, label = \"transh\", color=contact_type_palette[\"transh\"], orient=\"h\", order = datasets_order)\n",
    "    bar4 = sns.barplot(y=\"Dataset\",  x=\"% cish pairs\", data=summary2, label = \"cish\", color=contact_type_palette[\"cish\"], orient=\"h\", order = datasets_order)\n",
    "\n",
    "    ax.legend(title = \"Interaction type\", loc=(1.05, 0.5))\n",
    "    ax.set_xlabel(\"% of interactions\")\n",
    "    sns.despine()\n",
    "    plt.savefig(figures + \"perc_interaction_types_Dmel.svg\", bbox_inches='tight')\n",
    "    \n",
    "    fig, ax = plt.subplots(1, 1, figsize=(10,3))\n",
    "    bar1 = sns.barplot(y=\"Dataset\", x=\"Num cish + transh + cis-nonh + trans-nonh\", data=summary2, label = \"trans-nonh\", color=contact_type_palette[\"trans-nonh\"], orient=\"h\", order = datasets_order)\n",
    "    bar2 = sns.barplot(y=\"Dataset\", x=\"Num cish + transh + cis-nonh\", data=summary2, label = \"cis-nonh\", color=contact_type_palette[\"cis-nonh\"], orient=\"h\", order = datasets_order)\n",
    "    bar3 = sns.barplot(y=\"Dataset\", x=\"Num cish + transh\", data=summary2, label = \"transh\", color=contact_type_palette[\"transh\"], orient=\"h\", order = datasets_order)\n",
    "    bar4 = sns.barplot(y=\"Dataset\",  x=\"Num cish pairs\", data=summary2, label = \"cish\", color=contact_type_palette[\"cish\"], orient=\"h\", order = datasets_order)\n",
    "\n",
    "    ax.legend(title = \"Interaction type\", loc=(1.05, 0.5))\n",
    "    ax.set_xlabel(\"Number of interactions\")\n",
    "    sns.despine()\n",
    "    plt.savefig(figures + \"num_interaction_types_Dmel.svg\", bbox_inches='tight')   "
   ]
  },
  {
   "cell_type": "markdown",
   "id": "1844d021-6014-484c-8c00-4204b6084f88",
   "metadata": {},
   "source": [
    "# Distribution of distances between pairs of loci depending on haplotype location"
   ]
  },
  {
   "cell_type": "code",
   "execution_count": 14,
   "id": "9ffc098e-cfd2-4ce2-a134-2b3bfb66c653",
   "metadata": {},
   "outputs": [
    {
     "data": {
      "text/plain": [
       "dict_keys(['DGRP-57_DGRP-439_WE_2-4h_Rep1', 'DGRP-57_DGRP-439_PnM_Rep1', 'DGRP-57_DGRP-439_PnM_Rep2', 'DGRP-57_DGRP-439_WE_2-4h_Rep2'])"
      ]
     },
     "execution_count": 14,
     "metadata": {},
     "output_type": "execute_result"
    }
   ],
   "source": [
    "datasets_dict.keys()"
   ]
  },
  {
   "cell_type": "code",
   "execution_count": 15,
   "id": "15342b38-275e-4c5d-9516-c62eb81c06b2",
   "metadata": {},
   "outputs": [
    {
     "data": {
      "text/html": [
       "<div>\n",
       "<style scoped>\n",
       "    .dataframe tbody tr th:only-of-type {\n",
       "        vertical-align: middle;\n",
       "    }\n",
       "\n",
       "    .dataframe tbody tr th {\n",
       "        vertical-align: top;\n",
       "    }\n",
       "\n",
       "    .dataframe thead th {\n",
       "        text-align: right;\n",
       "    }\n",
       "</style>\n",
       "<table border=\"1\" class=\"dataframe\">\n",
       "  <thead>\n",
       "    <tr style=\"text-align: right;\">\n",
       "      <th></th>\n",
       "      <th>chrom1</th>\n",
       "      <th>pos1</th>\n",
       "      <th>strand1</th>\n",
       "      <th>h1</th>\n",
       "      <th>chrom2</th>\n",
       "      <th>pos2</th>\n",
       "      <th>strand2</th>\n",
       "      <th>h2</th>\n",
       "      <th>interaction_ID</th>\n",
       "      <th>same haplotype</th>\n",
       "      <th>interaction type</th>\n",
       "      <th>dist</th>\n",
       "      <th>dist+1</th>\n",
       "    </tr>\n",
       "  </thead>\n",
       "  <tbody>\n",
       "    <tr>\n",
       "      <th>0</th>\n",
       "      <td>chr3R</td>\n",
       "      <td>24607710</td>\n",
       "      <td>-</td>\n",
       "      <td>DGRP-57</td>\n",
       "      <td>chr3R</td>\n",
       "      <td>24701755</td>\n",
       "      <td>+</td>\n",
       "      <td>DGRP-57</td>\n",
       "      <td>0</td>\n",
       "      <td>True</td>\n",
       "      <td>cish DGRP-57</td>\n",
       "      <td>94045</td>\n",
       "      <td>94046</td>\n",
       "    </tr>\n",
       "    <tr>\n",
       "      <th>1</th>\n",
       "      <td>chr3R</td>\n",
       "      <td>15280387</td>\n",
       "      <td>-</td>\n",
       "      <td>DGRP-57</td>\n",
       "      <td>chr3R</td>\n",
       "      <td>15286147</td>\n",
       "      <td>+</td>\n",
       "      <td>DGRP-57</td>\n",
       "      <td>1</td>\n",
       "      <td>True</td>\n",
       "      <td>cish DGRP-57</td>\n",
       "      <td>5760</td>\n",
       "      <td>5761</td>\n",
       "    </tr>\n",
       "    <tr>\n",
       "      <th>2</th>\n",
       "      <td>chr2R</td>\n",
       "      <td>14955488</td>\n",
       "      <td>+</td>\n",
       "      <td>DGRP-57</td>\n",
       "      <td>chr2R</td>\n",
       "      <td>14955879</td>\n",
       "      <td>-</td>\n",
       "      <td>DGRP-57</td>\n",
       "      <td>2</td>\n",
       "      <td>True</td>\n",
       "      <td>cish DGRP-57</td>\n",
       "      <td>391</td>\n",
       "      <td>392</td>\n",
       "    </tr>\n",
       "    <tr>\n",
       "      <th>3</th>\n",
       "      <td>chr3R</td>\n",
       "      <td>19074941</td>\n",
       "      <td>-</td>\n",
       "      <td>DGRP-57</td>\n",
       "      <td>chr3R</td>\n",
       "      <td>19074677</td>\n",
       "      <td>+</td>\n",
       "      <td>DGRP-57</td>\n",
       "      <td>3</td>\n",
       "      <td>True</td>\n",
       "      <td>cish DGRP-57</td>\n",
       "      <td>264</td>\n",
       "      <td>265</td>\n",
       "    </tr>\n",
       "    <tr>\n",
       "      <th>4</th>\n",
       "      <td>chr2R</td>\n",
       "      <td>23600974</td>\n",
       "      <td>+</td>\n",
       "      <td>DGRP-57</td>\n",
       "      <td>chr2R</td>\n",
       "      <td>23588557</td>\n",
       "      <td>-</td>\n",
       "      <td>DGRP-57</td>\n",
       "      <td>4</td>\n",
       "      <td>True</td>\n",
       "      <td>cish DGRP-57</td>\n",
       "      <td>12417</td>\n",
       "      <td>12418</td>\n",
       "    </tr>\n",
       "  </tbody>\n",
       "</table>\n",
       "</div>"
      ],
      "text/plain": [
       "  chrom1      pos1 strand1       h1 chrom2      pos2 strand2       h2  \\\n",
       "0  chr3R  24607710       -  DGRP-57  chr3R  24701755       +  DGRP-57   \n",
       "1  chr3R  15280387       -  DGRP-57  chr3R  15286147       +  DGRP-57   \n",
       "2  chr2R  14955488       +  DGRP-57  chr2R  14955879       -  DGRP-57   \n",
       "3  chr3R  19074941       -  DGRP-57  chr3R  19074677       +  DGRP-57   \n",
       "4  chr2R  23600974       +  DGRP-57  chr2R  23588557       -  DGRP-57   \n",
       "\n",
       "   interaction_ID  same haplotype interaction type   dist  dist+1  \n",
       "0               0            True     cish DGRP-57  94045   94046  \n",
       "1               1            True     cish DGRP-57   5760    5761  \n",
       "2               2            True     cish DGRP-57    391     392  \n",
       "3               3            True     cish DGRP-57    264     265  \n",
       "4               4            True     cish DGRP-57  12417   12418  "
      ]
     },
     "execution_count": 15,
     "metadata": {},
     "output_type": "execute_result"
    }
   ],
   "source": [
    "datasets_dict['DGRP-57_DGRP-439_WE_2-4h_Rep1'].head()"
   ]
  },
  {
   "cell_type": "code",
   "execution_count": null,
   "id": "83ad796a-1c03-456b-a027-e79575dcab93",
   "metadata": {},
   "outputs": [
    {
     "name": "stdout",
     "output_type": "stream",
     "text": [
      "DGRP-57_DGRP-439_WE_2-4h_Rep1\n"
     ]
    },
    {
     "data": {
      "image/png": "[encoded data removed]",
      "text/plain": [
       "<Figure size 360x360 with 1 Axes>"
      ]
     },
     "metadata": {
      "needs_background": "light"
     },
     "output_type": "display_data"
    },
    {
     "name": "stdout",
     "output_type": "stream",
     "text": [
      "DGRP-57_DGRP-439_PnM_Rep1\n"
     ]
    },
    {
     "data": {
      "image/png": "[encoded data removed]",
      "text/plain": [
       "<Figure size 360x360 with 1 Axes>"
      ]
     },
     "metadata": {
      "needs_background": "light"
     },
     "output_type": "display_data"
    },
    {
     "name": "stdout",
     "output_type": "stream",
     "text": [
      "DGRP-57_DGRP-439_PnM_Rep2\n"
     ]
    }
   ],
   "source": [
    "for dataset in datasets_dict.keys():\n",
    "    print(dataset)\n",
    "    plot_ecdf(datasets_dict[dataset], dataset_names_dict[dataset])"
   ]
  },
  {
   "cell_type": "code",
   "execution_count": null,
   "id": "8c1217b6-1766-4c7f-a42d-1ab46baefb54",
   "metadata": {},
   "outputs": [],
   "source": []
  }
 ],
 "metadata": {
  "kernelspec": {
   "display_name": "Python 3 (ipykernel)",
   "language": "python",
   "name": "python3"
  },
  "language_info": {
   "codemirror_mode": {
    "name": "ipython",
    "version": 3
   },
   "file_extension": ".py",
   "mimetype": "text/x-python",
   "name": "python",
   "nbconvert_exporter": "python",
   "pygments_lexer": "ipython3",
   "version": "3.8.6"
  }
 },
 "nbformat": 4,
 "nbformat_minor": 5
}
